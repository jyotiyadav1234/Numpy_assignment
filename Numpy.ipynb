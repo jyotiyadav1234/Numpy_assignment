{
  "nbformat": 4,
  "nbformat_minor": 0,
  "metadata": {
    "colab": {
      "provenance": [],
      "toc_visible": true
    },
    "kernelspec": {
      "name": "python3",
      "display_name": "Python 3"
    },
    "language_info": {
      "name": "python"
    }
  },
  "cells": [
    {
      "cell_type": "markdown",
      "source": [
        "Theoretical Questions:\n",
        "1. Explain the purpose and advantages of NumPy in scientific computing and data analysis. How does it\n",
        "enhance Python's capabilities for numerical operations? **bold text**\n",
        "\n",
        "ANS - NumPy provides efficient data structures for numerical operations, especially arrays and matrices. It enhances Python’s capabilities by enabling faster computations, vectorized operations, and memory-efficient data storage, which are essential for scientific computing and data analysis.\n",
        "\n",
        "2. Compare and contrast np.mean() and np.average() functions in NumPy. When would you use one over the\n",
        "other? **bold text**\n",
        "\n",
        "ANS- np.mean() calculates the arithmetic mean of the array, while np.average() can compute a weighted average if weights are provided. Use np.average() when you want to account for weights, otherwise, np.mean() suffices.\n",
        "\n",
        "\n",
        "3. Describe the methods for reversing a NumPy array along different axes. Provide examples for 1D and 2D\n",
        "arrays. **bold text**\n",
        "\n",
        "ANS- 1D: arr[::-1] reverses a 1D array.\n",
        "2D: arr[::-1, ::-1] reverses rows and columns along both axes.\n",
        "\n",
        "4. How can you determine the data type of elements in a NumPy array? Discuss the importance of data types\n",
        "in memory management and performance.\n",
        "\n",
        "ANS-Use arr.dtype to determine the data type. Data types are crucial for memory management and performance, as they define how much memory each element consumes and how operations are performed.\n",
        "\n",
        "\n",
        "5. Define ndarrays in NumPy and explain their key features. How do they differ from standard Python lists?\n",
        "\n",
        "ANS-ndarrays are multi-dimensional, homogeneous arrays with fast element access and mathematical operations. Unlike Python lists, ndarrays are optimized for numerical tasks and support vectorized operations.\n",
        "\n",
        "6. Analyze the performance benefits of NumPy arrays over Python lists for large-scale numerical operations.\n",
        "\n",
        "ANS-NumPy arrays are faster and more memory-efficient than Python lists due to contiguous memory allocation, vectorized operations, and lower overhead for numerical computations.\n",
        "\n",
        "7. Compare vstack() and hstack() functions in NumPy. Provide examples demonstrating their usage and\n",
        "output.\n",
        "\n",
        "ANS-\n",
        "vstack(): Stacks arrays vertically (row-wise).\n",
        "hstack(): Stacks arrays horizontally (column-wise).\n",
        "Example:\n",
        "np.vstack([arr1, arr2])  # vertical stacking\n",
        "np.hstack([arr1, arr2])  # horizontal stacking\n",
        "\n",
        "\n",
        "8. Explain the differences between fliplr() and flipud() methods in NumPy, including their effects on various\n",
        "array dimensions.\n",
        "\n",
        "ANS-\n",
        "fliplr(): Flips the array left to right (columns reversed).\n",
        "flipud(): Flips the array upside down (rows reversed)\n",
        "\n",
        "9. Discuss the functionality of the array_split() method in NumPy. How does it handle uneven splits?\n",
        "\n",
        "ANS-Splits an array into sub-arrays. If the split is uneven, some sub-arrays will have more elements than others. For example, np.array_split(arr, 3) divides an array into three parts, with the remainder handled as needed.\n",
        "\n",
        "10. Explain the concepts of vectorization and broadcasting in NumPy. How do they contribute to efficient array\n",
        "operations?\n",
        "\n",
        "ANS-\n",
        "Vectorization: Replaces explicit loops with optimized array operations for faster execution.\n",
        "Broadcasting: Allows operations on arrays of different shapes by automatically expanding their dimensions. Both improve efficiency by avoiding loops."
      ],
      "metadata": {
        "id": "yBbpoNbdHc4U"
      }
    },
    {
      "cell_type": "markdown",
      "source": [
        "Practical Questions:\n",
        "1. Create a 3x3 NumPy array with random integers between 1 and 100. Then, interchange its rows and columns."
      ],
      "metadata": {
        "id": "vYmHbxeqHdlF"
      }
    },
    {
      "cell_type": "code",
      "source": [
        "import numpy as np\n",
        "a= np.random.randint(1,100,(3,3))\n",
        "a.T"
      ],
      "metadata": {
        "colab": {
          "base_uri": "https://localhost:8080/"
        },
        "id": "YAGpUN-aKADn",
        "outputId": "c5f4dcd2-481b-471c-ec6f-dd808d0e883b"
      },
      "execution_count": null,
      "outputs": [
        {
          "output_type": "execute_result",
          "data": {
            "text/plain": [
              "array([[ 1, 12, 76],\n",
              "       [57, 54, 13],\n",
              "       [61, 95, 58]])"
            ]
          },
          "metadata": {},
          "execution_count": 5
        }
      ]
    },
    {
      "cell_type": "markdown",
      "source": [
        "2. Generate a 1D NumPy array with 10 elements. Reshape it into a 2x5 array, then into a 5x2 array"
      ],
      "metadata": {
        "id": "7cNLjGh7K0x5"
      }
    },
    {
      "cell_type": "code",
      "source": [
        "a=np.array([1,2,3,4,5,6,7,8,9,10])\n",
        "a.reshape(2,5)\n",
        "a.reshape(5,2)"
      ],
      "metadata": {
        "colab": {
          "base_uri": "https://localhost:8080/"
        },
        "id": "NsCs0n9pKWC0",
        "outputId": "4f680feb-ad6f-486f-d483-f67363e5bfa3"
      },
      "execution_count": null,
      "outputs": [
        {
          "output_type": "execute_result",
          "data": {
            "text/plain": [
              "array([[ 1,  2],\n",
              "       [ 3,  4],\n",
              "       [ 5,  6],\n",
              "       [ 7,  8],\n",
              "       [ 9, 10]])"
            ]
          },
          "metadata": {},
          "execution_count": 13
        }
      ]
    },
    {
      "cell_type": "markdown",
      "source": [
        "3. Create a 4x4 NumPy array with random float values. Add a border of zeros around it, resulting in a 6x6 array."
      ],
      "metadata": {
        "id": "P-KdU6zVMT0c"
      }
    },
    {
      "cell_type": "code",
      "source": [
        "a= np.random.rand(4,4)\n",
        "a\n",
        "np.pad(a,pad_width=1,mode='constant',constant_values=0)"
      ],
      "metadata": {
        "colab": {
          "base_uri": "https://localhost:8080/"
        },
        "id": "a-g54WNYK8w4",
        "outputId": "1701f66a-2bd8-4a7b-8416-4750ab9a30db"
      },
      "execution_count": null,
      "outputs": [
        {
          "output_type": "execute_result",
          "data": {
            "text/plain": [
              "array([[0.        , 0.        , 0.        , 0.        , 0.        ,\n",
              "        0.        ],\n",
              "       [0.        , 0.23735004, 0.76546124, 0.99097989, 0.8792744 ,\n",
              "        0.        ],\n",
              "       [0.        , 0.51947537, 0.25865435, 0.0060043 , 0.20873101,\n",
              "        0.        ],\n",
              "       [0.        , 0.21874839, 0.89557273, 0.29945507, 0.58833539,\n",
              "        0.        ],\n",
              "       [0.        , 0.94333843, 0.64507293, 0.95758315, 0.73106001,\n",
              "        0.        ],\n",
              "       [0.        , 0.        , 0.        , 0.        , 0.        ,\n",
              "        0.        ]])"
            ]
          },
          "metadata": {},
          "execution_count": 16
        }
      ]
    },
    {
      "cell_type": "markdown",
      "source": [
        "4. Using NumPy, create an array of integers from 10 to 60 with a step of 5."
      ],
      "metadata": {
        "id": "MuMOnEJnOD-o"
      }
    },
    {
      "cell_type": "code",
      "source": [
        "a= np.random.randint(10,60,5)\n",
        "a"
      ],
      "metadata": {
        "colab": {
          "base_uri": "https://localhost:8080/"
        },
        "id": "A6efYdY5M9kV",
        "outputId": "334f79c3-0061-4ea4-c570-6b99d1022a85"
      },
      "execution_count": null,
      "outputs": [
        {
          "output_type": "execute_result",
          "data": {
            "text/plain": [
              "array([34, 54, 57, 18, 57])"
            ]
          },
          "metadata": {},
          "execution_count": 17
        }
      ]
    },
    {
      "cell_type": "markdown",
      "source": [
        "5. Create a NumPy array of strings ['python', 'numpy', 'pandas']. Apply different case transformations\n",
        "(uppercase, lowercase, title case, etc.) to each element."
      ],
      "metadata": {
        "id": "1v5ahbeIOcpG"
      }
    },
    {
      "cell_type": "code",
      "source": [
        "a=np.array(['python','numpy','pandas'])\n",
        "a\n",
        "a[0].upper()\n",
        "a[0].lower()\n",
        "a[0].title()\n",
        "a[1].upper()\n",
        "a[1].lower()\n",
        "a[1].title()\n",
        "a[2].upper()\n",
        "a[2].lower()\n",
        "a[2].title()"
      ],
      "metadata": {
        "colab": {
          "base_uri": "https://localhost:8080/",
          "height": 35
        },
        "id": "f8IUg7icOYzy",
        "outputId": "91648a2f-b834-4e4f-8a1d-c46eeb3b41c3"
      },
      "execution_count": null,
      "outputs": [
        {
          "output_type": "execute_result",
          "data": {
            "text/plain": [
              "'Pandas'"
            ],
            "application/vnd.google.colaboratory.intrinsic+json": {
              "type": "string"
            }
          },
          "metadata": {},
          "execution_count": 22
        }
      ]
    },
    {
      "cell_type": "markdown",
      "source": [
        "6. Generate a NumPy array of words. Insert a space between each character of every word in the array."
      ],
      "metadata": {
        "id": "IU8i7aD4PNZl"
      }
    },
    {
      "cell_type": "code",
      "source": [
        "words = np.array(['apple', 'banana', 'cherry'])\n",
        "words_with_spaces = np.array([' '.join(word) for word in words])\n",
        "\n",
        "print(words_with_spaces)\n",
        "\n"
      ],
      "metadata": {
        "colab": {
          "base_uri": "https://localhost:8080/"
        },
        "id": "xHnI73IyOtGy",
        "outputId": "3c978059-aff6-4a7f-99ed-05333d17866a"
      },
      "execution_count": null,
      "outputs": [
        {
          "output_type": "stream",
          "name": "stdout",
          "text": [
            "['a p p l e' 'b a n a n a' 'c h e r r y']\n"
          ]
        }
      ]
    },
    {
      "cell_type": "markdown",
      "source": [
        "7. Create two 2D NumPy arrays and perform element-wise addition, subtraction, multiplication, and division."
      ],
      "metadata": {
        "id": "IKcRdA6sSWoQ"
      }
    },
    {
      "cell_type": "code",
      "source": [
        "arr1 =np.array([[1,2,3],[4,5,6],[7,8,9]])\n",
        "arr2 =np.array([[6,2,73],[4,45,6],[7,82,9]])\n",
        "arr1+arr2\n",
        "arr1-arr2\n",
        "arr1*arr2\n",
        "arr1/arr2"
      ],
      "metadata": {
        "colab": {
          "base_uri": "https://localhost:8080/"
        },
        "id": "6uEjIJsQQdN8",
        "outputId": "f8adb019-bd22-45d8-cf47-2ca8a5e72be1"
      },
      "execution_count": null,
      "outputs": [
        {
          "output_type": "execute_result",
          "data": {
            "text/plain": [
              "array([[0.16666667, 1.        , 0.04109589],\n",
              "       [1.        , 0.11111111, 1.        ],\n",
              "       [1.        , 0.09756098, 1.        ]])"
            ]
          },
          "metadata": {},
          "execution_count": 38
        }
      ]
    },
    {
      "cell_type": "markdown",
      "source": [
        "8. Use NumPy to create a 5x5 identity matrix, then extract its diagonal elements."
      ],
      "metadata": {
        "id": "IEXquYlDdicj"
      }
    },
    {
      "cell_type": "code",
      "source": [
        "a=np.eye(5)\n",
        "np.diag(a)"
      ],
      "metadata": {
        "colab": {
          "base_uri": "https://localhost:8080/"
        },
        "id": "139SMZGiSqHF",
        "outputId": "d55d49e2-b4a6-445b-e26d-569aa5a42652"
      },
      "execution_count": null,
      "outputs": [
        {
          "output_type": "execute_result",
          "data": {
            "text/plain": [
              "array([1., 1., 1., 1., 1.])"
            ]
          },
          "metadata": {},
          "execution_count": 43
        }
      ]
    },
    {
      "cell_type": "markdown",
      "source": [
        "9. Generate a NumPy array of 100 random integers between 0 and 1000. Find and display all prime numbers in\n",
        "this array"
      ],
      "metadata": {
        "id": "ukOcK8y6fEwb"
      }
    },
    {
      "cell_type": "code",
      "source": [
        "a = np.random.randint(0, 1001, size=100)\n",
        "\n",
        "def is_prime(n):\n",
        "    if n <= 1:\n",
        "        return False\n",
        "    for i in range(2, int(n**0.5) + 1):\n",
        "        if n % i == 0:\n",
        "            return False\n",
        "    return True\n",
        "\n",
        "primes = np.array([num for num in a if is_prime(num)])\n",
        "print(\"Prime Numbers:\\n\", primes)"
      ],
      "metadata": {
        "colab": {
          "base_uri": "https://localhost:8080/"
        },
        "id": "5Sbp9lFXd2fJ",
        "outputId": "6e937943-ea60-4f97-8d83-1c5f53c22c9c"
      },
      "execution_count": null,
      "outputs": [
        {
          "output_type": "stream",
          "name": "stdout",
          "text": [
            "Prime Numbers:\n",
            " [397 967 157 331 811 191 613 983 197 947 283 389 179 677 617  43 601]\n"
          ]
        }
      ]
    },
    {
      "cell_type": "markdown",
      "source": [
        "10. Create a NumPy array representing daily temperatures for a month. Calculate and display the weekly\n",
        "averages"
      ],
      "metadata": {
        "id": "DO3BM0tphrOn"
      }
    },
    {
      "cell_type": "code",
      "source": [
        "temperatures = np.random.uniform(low=-10, high=35, size=30)\n",
        "temperatures_reshape = temperatures.reshape(5,6)\n",
        "weekly_averages = np.mean(temperatures_reshape, axis=1)\n",
        "weekly_averages"
      ],
      "metadata": {
        "colab": {
          "base_uri": "https://localhost:8080/"
        },
        "id": "nE3IuOr5e3ZV",
        "outputId": "da4cc288-3bdd-4d7e-e950-3bc9a0b5703a"
      },
      "execution_count": null,
      "outputs": [
        {
          "output_type": "execute_result",
          "data": {
            "text/plain": [
              "array([21.21861767,  8.9307787 , 12.31664027, 17.33221257, 13.09146786])"
            ]
          },
          "metadata": {},
          "execution_count": 56
        }
      ]
    },
    {
      "cell_type": "code",
      "source": [],
      "metadata": {
        "id": "SBCFLy-Eijq1"
      },
      "execution_count": null,
      "outputs": []
    }
  ]
}